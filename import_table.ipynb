{
 "cells": [
  {
   "cell_type": "code",
   "execution_count": 20,
   "metadata": {},
   "outputs": [],
   "source": [
    "url          = 'https://www.investing.com'\n",
    "table_index  = 1 \n",
    "file_name    = 'table.csv'"
   ]
  },
  {
   "cell_type": "code",
   "execution_count": 21,
   "metadata": {},
   "outputs": [
    {
     "name": "stdout",
     "output_type": "stream",
     "text": [
      "lenght of tables =  17\n"
     ]
    }
   ],
   "source": [
    "import requests\n",
    "import pandas as pd\n",
    "import matplotlib.pyplot as plt\n",
    "\n",
    "# read content of the given url \n",
    "requests.get(url).content\n",
    "\n",
    "# read all tables\n",
    "tables = pd.read_html(requests.get(url, headers={'User-Agent': 'Mozilla/5.0'}).content)\n",
    "\n",
    "# select one table\n",
    "table = tables[ table_index ]\n",
    "\n",
    "# save the table to csv file\n",
    "table.to_csv('D:\\\\' + file_name , sep='\\t', encoding='utf-8')\n",
    "\n",
    "# print number of the tables\n",
    "print('lenght of tables = ', len(tables))"
   ]
  },
  {
   "cell_type": "code",
   "execution_count": 22,
   "metadata": {},
   "outputs": [
    {
     "data": {
      "text/html": [
       "<div>\n",
       "<style scoped>\n",
       "    .dataframe tbody tr th:only-of-type {\n",
       "        vertical-align: middle;\n",
       "    }\n",
       "\n",
       "    .dataframe tbody tr th {\n",
       "        vertical-align: top;\n",
       "    }\n",
       "\n",
       "    .dataframe thead th {\n",
       "        text-align: right;\n",
       "    }\n",
       "</style>\n",
       "<table border=\"1\" class=\"dataframe\">\n",
       "  <thead>\n",
       "    <tr style=\"text-align: right;\">\n",
       "      <th></th>\n",
       "      <th>Unnamed: 0</th>\n",
       "      <th>Name</th>\n",
       "      <th>Symbol</th>\n",
       "      <th>Price (USD)</th>\n",
       "      <th>Market Cap</th>\n",
       "      <th>Vol (24H)</th>\n",
       "      <th>Chg (24H)</th>\n",
       "    </tr>\n",
       "  </thead>\n",
       "  <tbody>\n",
       "    <tr>\n",
       "      <th>0</th>\n",
       "      <td>NaN</td>\n",
       "      <td>Bitcoin</td>\n",
       "      <td>BTC</td>\n",
       "      <td>7635.00000</td>\n",
       "      <td>$130.54B</td>\n",
       "      <td>$4.20B</td>\n",
       "      <td>-0.69%</td>\n",
       "    </tr>\n",
       "    <tr>\n",
       "      <th>1</th>\n",
       "      <td>NaN</td>\n",
       "      <td>Ethereum</td>\n",
       "      <td>ETH</td>\n",
       "      <td>603.65000</td>\n",
       "      <td>$60.42B</td>\n",
       "      <td>$1.63B</td>\n",
       "      <td>-0.39%</td>\n",
       "    </tr>\n",
       "    <tr>\n",
       "      <th>2</th>\n",
       "      <td>NaN</td>\n",
       "      <td>Ripple</td>\n",
       "      <td>XRP</td>\n",
       "      <td>0.67427</td>\n",
       "      <td>$26.50B</td>\n",
       "      <td>$219.54M</td>\n",
       "      <td>+0.36%</td>\n",
       "    </tr>\n",
       "    <tr>\n",
       "      <th>3</th>\n",
       "      <td>NaN</td>\n",
       "      <td>Bitcoin Cash</td>\n",
       "      <td>BCH</td>\n",
       "      <td>1120.31000</td>\n",
       "      <td>$19.29B</td>\n",
       "      <td>$494.05M</td>\n",
       "      <td>-1.86%</td>\n",
       "    </tr>\n",
       "    <tr>\n",
       "      <th>4</th>\n",
       "      <td>NaN</td>\n",
       "      <td>EOS</td>\n",
       "      <td>EOS</td>\n",
       "      <td>14.32260</td>\n",
       "      <td>$12.85B</td>\n",
       "      <td>$1.05B</td>\n",
       "      <td>-1.79%</td>\n",
       "    </tr>\n",
       "  </tbody>\n",
       "</table>\n",
       "</div>"
      ],
      "text/plain": [
       "   Unnamed: 0          Name Symbol  Price (USD) Market Cap Vol (24H) Chg (24H)\n",
       "0         NaN       Bitcoin    BTC   7635.00000   $130.54B    $4.20B    -0.69%\n",
       "1         NaN      Ethereum    ETH    603.65000    $60.42B    $1.63B    -0.39%\n",
       "2         NaN        Ripple    XRP      0.67427    $26.50B  $219.54M    +0.36%\n",
       "3         NaN  Bitcoin Cash    BCH   1120.31000    $19.29B  $494.05M    -1.86%\n",
       "4         NaN           EOS    EOS     14.32260    $12.85B    $1.05B    -1.79%"
      ]
     },
     "execution_count": 22,
     "metadata": {},
     "output_type": "execute_result"
    }
   ],
   "source": [
    "table"
   ]
  },
  {
   "cell_type": "code",
   "execution_count": 23,
   "metadata": {},
   "outputs": [
    {
     "data": {
      "image/png": "[encoded data removed]",
      "text/plain": [
       "<Figure size 432x288 with 1 Axes>"
      ]
     },
     "metadata": {},
     "output_type": "display_data"
    }
   ],
   "source": [
    "table_draw = table.cumsum()\n",
    "table_draw.plot(kind='line',x = 'Name', y = 'Price (USD)')\n",
    "plt.show()"
   ]
  },
  {
   "cell_type": "code",
   "execution_count": 25,
   "metadata": {},
   "outputs": [
    {
     "data": {
      "image/png": "[encoded data removed]",
      "text/plain": [
       "<Figure size 432x288 with 1 Axes>"
      ]
     },
     "metadata": {},
     "output_type": "display_data"
    }
   ],
   "source": [
    "table_draw.plot(kind='bar',x = 'Name', y = 'Price (USD)')\n",
    "plt.show()"
   ]
  },
  {
   "cell_type": "code",
   "execution_count": null,
   "metadata": {},
   "outputs": [],
   "source": []
  }
 ],
 "metadata": {
  "kernelspec": {
   "display_name": "Python 3",
   "language": "python",
   "name": "python3"
  },
  "language_info": {
   "codemirror_mode": {
    "name": "ipython",
    "version": 3
   },
   "file_extension": ".py",
   "mimetype": "text/x-python",
   "name": "python",
   "nbconvert_exporter": "python",
   "pygments_lexer": "ipython3",
   "version": "3.6.5"
  }
 },
 "nbformat": 4,
 "nbformat_minor": 2
}
