{
 "cells": [
  {
   "cell_type": "code",
   "execution_count": 29,
   "metadata": {},
   "outputs": [],
   "source": [
    "url          = 'https://www.investing.com'\n",
    "table_index  = 3 \n",
    "file_name    = 'table.csv'"
   ]
  },
  {
   "cell_type": "code",
   "execution_count": 30,
   "metadata": {},
   "outputs": [
    {
     "name": "stdout",
     "output_type": "stream",
     "text": [
      "lenght of tables =  17\n"
     ]
    }
   ],
   "source": [
    "import requests\n",
    "import pandas as pd\n",
    "import matplotlib.pyplot as plt\n",
    "\n",
    "# read content of the given url \n",
    "requests.get(url).content\n",
    "\n",
    "# read all tables\n",
    "tables = pd.read_html(requests.get(url, headers={'User-Agent': 'Mozilla/5.0'}).content)\n",
    "\n",
    "# select one table\n",
    "table = tables[ table_index ]\n",
    "\n",
    "# save the table to csv file\n",
    "table.to_csv('D:\\\\' + file_name , sep='\\t', encoding='utf-8')\n",
    "\n",
    "# print number of the tables\n",
    "print('lenght of tables = ', len(tables))"
   ]
  },
  {
   "cell_type": "code",
   "execution_count": 31,
   "metadata": {},
   "outputs": [
    {
     "data": {
      "text/html": [
       "<div>\n",
       "<style scoped>\n",
       "    .dataframe tbody tr th:only-of-type {\n",
       "        vertical-align: middle;\n",
       "    }\n",
       "\n",
       "    .dataframe tbody tr th {\n",
       "        vertical-align: top;\n",
       "    }\n",
       "\n",
       "    .dataframe thead th {\n",
       "        text-align: right;\n",
       "    }\n",
       "</style>\n",
       "<table border=\"1\" class=\"dataframe\">\n",
       "  <thead>\n",
       "    <tr style=\"text-align: right;\">\n",
       "      <th></th>\n",
       "      <th>Name</th>\n",
       "      <th>Last</th>\n",
       "      <th>Chg.</th>\n",
       "      <th>Chg. %</th>\n",
       "      <th>Market Overview</th>\n",
       "      <th>Adv.</th>\n",
       "      <th>Dec.</th>\n",
       "    </tr>\n",
       "  </thead>\n",
       "  <tbody>\n",
       "    <tr>\n",
       "      <th>0</th>\n",
       "      <td>Dow 30</td>\n",
       "      <td>25316.53</td>\n",
       "      <td>75.12</td>\n",
       "      <td>+0.30%</td>\n",
       "      <td>Up  70.00%  Down  30.00%</td>\n",
       "      <td>21</td>\n",
       "      <td>9</td>\n",
       "    </tr>\n",
       "    <tr>\n",
       "      <th>1</th>\n",
       "      <td>S&amp;P 500</td>\n",
       "      <td>2779.03</td>\n",
       "      <td>8.66</td>\n",
       "      <td>+0.31%</td>\n",
       "      <td>Up  70.78%  Down  28.23%  Unchanged  0.99%</td>\n",
       "      <td>356</td>\n",
       "      <td>142</td>\n",
       "    </tr>\n",
       "    <tr>\n",
       "      <th>2</th>\n",
       "      <td>DAX</td>\n",
       "      <td>12766.55</td>\n",
       "      <td>-44.50</td>\n",
       "      <td>-0.35%</td>\n",
       "      <td>Up  40.00%  Down  60.00%</td>\n",
       "      <td>12</td>\n",
       "      <td>18</td>\n",
       "    </tr>\n",
       "    <tr>\n",
       "      <th>3</th>\n",
       "      <td>S&amp;P/TSX</td>\n",
       "      <td>16202.69</td>\n",
       "      <td>9.91</td>\n",
       "      <td>+0.06%</td>\n",
       "      <td>Up  51.82%  Down  46.56%  Unchanged  1.62%</td>\n",
       "      <td>128</td>\n",
       "      <td>115</td>\n",
       "    </tr>\n",
       "    <tr>\n",
       "      <th>4</th>\n",
       "      <td>Nikkei 225</td>\n",
       "      <td>22694.50</td>\n",
       "      <td>-128.76</td>\n",
       "      <td>-0.56%</td>\n",
       "      <td>Up  24.89%  Down  73.33%  Unchanged  1.78%</td>\n",
       "      <td>56</td>\n",
       "      <td>165</td>\n",
       "    </tr>\n",
       "    <tr>\n",
       "      <th>5</th>\n",
       "      <td>S&amp;P/ASX 200</td>\n",
       "      <td>6045.20</td>\n",
       "      <td>-12.10</td>\n",
       "      <td>-0.20%</td>\n",
       "      <td>Up  35.00%  Down  59.00%  Unchanged  6.00%</td>\n",
       "      <td>70</td>\n",
       "      <td>118</td>\n",
       "    </tr>\n",
       "  </tbody>\n",
       "</table>\n",
       "</div>"
      ],
      "text/plain": [
       "          Name      Last    Chg.  Chg. %  \\\n",
       "0       Dow 30  25316.53   75.12  +0.30%   \n",
       "1      S&P 500   2779.03    8.66  +0.31%   \n",
       "2          DAX  12766.55  -44.50  -0.35%   \n",
       "3      S&P/TSX  16202.69    9.91  +0.06%   \n",
       "4   Nikkei 225  22694.50 -128.76  -0.56%   \n",
       "5  S&P/ASX 200   6045.20  -12.10  -0.20%   \n",
       "\n",
       "                              Market Overview  Adv.  Dec.  \n",
       "0                    Up  70.00%  Down  30.00%    21     9  \n",
       "1  Up  70.78%  Down  28.23%  Unchanged  0.99%   356   142  \n",
       "2                    Up  40.00%  Down  60.00%    12    18  \n",
       "3  Up  51.82%  Down  46.56%  Unchanged  1.62%   128   115  \n",
       "4  Up  24.89%  Down  73.33%  Unchanged  1.78%    56   165  \n",
       "5  Up  35.00%  Down  59.00%  Unchanged  6.00%    70   118  "
      ]
     },
     "execution_count": 31,
     "metadata": {},
     "output_type": "execute_result"
    }
   ],
   "source": [
    "table"
   ]
  },
  {
   "cell_type": "code",
   "execution_count": 33,
   "metadata": {},
   "outputs": [
    {
     "data": {
      "image/png": "[encoded data removed]",
      "text/plain": [
       "<Figure size 432x288 with 1 Axes>"
      ]
     },
     "metadata": {},
     "output_type": "display_data"
    }
   ],
   "source": [
    "table_draw = table.cumsum()\n",
    "table_draw.plot(kind='line',x = 'Name', y = 'Chg.')\n",
    "plt.show()"
   ]
  },
  {
   "cell_type": "code",
   "execution_count": 34,
   "metadata": {},
   "outputs": [
    {
     "data": {
      "image/png": "[encoded data removed]",
      "text/plain": [
       "<Figure size 432x288 with 1 Axes>"
      ]
     },
     "metadata": {},
     "output_type": "display_data"
    }
   ],
   "source": [
    "table_draw.plot(kind='bar',x = 'Name', y = 'Chg.')\n",
    "plt.show()"
   ]
  },
  {
   "cell_type": "code",
   "execution_count": null,
   "metadata": {},
   "outputs": [],
   "source": []
  }
 ],
 "metadata": {
  "kernelspec": {
   "display_name": "Python 3",
   "language": "python",
   "name": "python3"
  },
  "language_info": {
   "codemirror_mode": {
    "name": "ipython",
    "version": 3
   },
   "file_extension": ".py",
   "mimetype": "text/x-python",
   "name": "python",
   "nbconvert_exporter": "python",
   "pygments_lexer": "ipython3",
   "version": "3.6.5"
  }
 },
 "nbformat": 4,
 "nbformat_minor": 2
}
